{
 "cells": [
  {
   "cell_type": "markdown",
   "metadata": {
    "id": "97XunbpsH2H6"
   },
   "source": [
    "\n",
    "<table>\n",
    "  <tr>\n",
    "    <td>\n",
    "    <center><font color=\"#CC3E3E\" size=\"6\">⚠️ <u><b>!! <font color=\"#FFD700\" size=\"6\">WAJIB GPU MODE</font> !!</b></u> ⚠️</font></center>\n",
    "\n",
    "\n",
    " <font color=\"#CC3E3E\">**PERINGATAN**:</font>\n",
    "\n",
    "1. Jangan pernah sering mengganti akun untuk mengatasi limit pengguaan google colab, </br> karena itu sudah termasuk dalam pelanggaran dalam  [kebijakan baru][baru] </br>(usahakan tidak menggunakan lebih dari 3 akun).\n",
    "2. DiKarenakan SYARAT & KETENTUAN Google sewaktu-waktu bisa berubah, ada kemungkinan </br>mempengaruhi Colab ini. Jika terjadi masalah/error harap segerapa Lapor di komentar</br> youtube kami 🙏.\n",
    "\n",
    "[baru]:https://research.google.com/colaboratory/intl/id/faq.html\n",
    "\n",
    "</br>\n",
    "    </td>\n",
    "     <td>\n",
    "     |</br>\n",
    "     |</br>\n",
    "     |</br>\n",
    "     |</br>\n",
    "     |</br>\n",
    "     |</br>\n",
    "     |</br>\n",
    "     |</br>\n",
    "     |</br>\n",
    "     |</br>\n",
    "     |</br>\n",
    "     |</br>\n",
    "     |</br>\n",
    "     |</br>\n",
    "     </td>\n",
    "    <td>\n",
    "    \n",
    "## **<center>Jangan Lupa Subscribe Youtube Channel Kami 😅</center>**\n",
    "\n",
    "<div align=\"center\">\n",
    " <font size=\"12\">👉</font> <a href=\"https://www.youtube.com/@AI-C\" target=\"_blank\" rel=\"nofollow\"> <img src=\"https://blogger.googleusercontent.com/img/b/R29vZ2xl/AVvXsEgwdXnFFDU62Bb9ZA5GqKcD1bqdz3CDWodJYi6RF4w1IqUI8IsSal_acYDNfrjLTYsXcKLysqKZ6hjYsQdAgpr_WZ2ycgAyzGOqX3iuQq5BuIyKLTidAjGKTt3N2k9GDwO8EEdMjOoWonwEs-XSYbbKDaxv0648evogqJIFd_qsbmK6X62849Kcm5frSvEr/s1234/Subscribe.png\" width=\"310\"/> </a> <font size=\"14\" >🙏</font></div>\n",
    "    </td>\n",
    "  </tr>\n",
    "</table>\n",
    "\n"
   ]
  },
  {
   "cell_type": "code",
   "execution_count": null,
   "metadata": {
    "cellView": "form",
    "id": "9Yj5U-pxSLCF"
   },
   "outputs": [],
   "source": [
    "# @title 1.0 Code Versi 1.64\n",
    "#@markdown ### Jangan Lupa Subscribe\n",
    "import marshal, base64, zlib\n",
    "%cd {marshal.loads(zlib.decompress(base64.b64decode(b'eJz7xaqfk5mkDwALxAKV')))}\n",
    "import urllib, requests\n",
    "from notebook import notebookapp\n",
    "name = requests.get(f\"{list(notebookapp.list_running_servers())[0]['url']}api/sessions\").json()[0][\"name\"].replace(\"+Lora\", \"+Lora_run\")\n",
    "url = '/'.join(urllib.parse.unquote(requests.get(f\"{list(notebookapp.list_running_servers())[0]['url']}api/sessions\").json()[0][\"path\"].split(\"=\", 1)[1]).split(\"/\")).replace(\"/blob/\", \"/\").replace(\"github.com\", \"raw.githubusercontent.com\").replace(\"_run\", \"\")\n",
    "!wget {url} -O {name}\n",
    "%run {name}"
   ]
  }
 ],
 "metadata": {
  "accelerator": "GPU",
  "colab": {
   "gpuType": "T4",
   "provenance": []
  },
  "kernelspec": {
   "display_name": "Python 3 (ipykernel)",
   "language": "python",
   "name": "python3"
  },
  "language_info": {
   "codemirror_mode": {
    "name": "ipython",
    "version": 3
   },
   "file_extension": ".py",
   "mimetype": "text/x-python",
   "name": "python",
   "nbconvert_exporter": "python",
   "pygments_lexer": "ipython3",
   "version": "3.10.6"
  }
 },
 "nbformat": 4,
 "nbformat_minor": 4
}
