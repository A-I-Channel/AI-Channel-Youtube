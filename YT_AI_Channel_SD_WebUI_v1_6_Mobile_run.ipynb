{
 "cells": [
  {
   "cell_type": "markdown",
   "metadata": {
    "id": "97XunbpsH2H6"
   },
   "source": [
    "\n",
    "<table>\n",
    " <td>\n",
    "<center><font size=\"4\">_</font></center>\n",
    "<center><font size=\"4\">Jangan Lupa Subscribe Youtube Channel Kami 😅</font></center>\n",
    "\n",
    "<div align=\"center\">\n",
    " <font size=\"12\">👉</font> <a href=\"https://www.youtube.com/@AI-C\" target=\"_blank\" rel=\"nofollow\"> <img src=\"https://blogger.googleusercontent.com/img/b/R29vZ2xl/AVvXsEgwdXnFFDU62Bb9ZA5GqKcD1bqdz3CDWodJYi6RF4w1IqUI8IsSal_acYDNfrjLTYsXcKLysqKZ6hjYsQdAgpr_WZ2ycgAyzGOqX3iuQq5BuIyKLTidAjGKTt3N2k9GDwO8EEdMjOoWonwEs-XSYbbKDaxv0648evogqJIFd_qsbmK6X62849Kcm5frSvEr/s1234/Subscribe.png\" width=\"310\"/> </a> <font size=\"14\" >🙏</font></div>\n",
    "    </td>\n",
    "   <td>\n",
    "    </td>\n",
    "</table>\n",
    "\n"
   ]
  },
  {
   "cell_type": "code",
   "execution_count": null,
   "metadata": {
    "cellView": "form",
    "id": "W_hBg9xLFguL"
   },
   "outputs": [],
   "source": [
    "# @title 1.0 Code Versi 1.6 Mobile\n",
    "import marshal, base64, zlib\n",
    "\n",
    "%cd {marshal.loads(zlib.decompress(base64.b64decode(b'eJz7xaGfnJ9XkppXAgAXUgQt')))}\n",
    "%env TF_CPP_MIN_LOG_LEVEL=1\n",
    "!apt -y update -qq\n",
    "!wget {marshal.loads(zlib.decompress(base64.b64decode(b'eJx1yzEOgzAMBdCrcIHkL526obIw9QjIhEAs2Q5qjBh6807lAmxveb9vcd/bE9jYyzHHVBV9GMOrkFkWDOQUVpaMD51QYoPw7ElJpKZJ2fhibDU+uvDukKp5Nkcj3SVPy9Vvwx9mIy4q')))}\n",
    "%env LD_PRELOAD={marshal.loads(zlib.decompress(base64.b64decode(b'eJz7paufnJ9XkppXol+cmFuQkxqfkliSqJ+TmVSSnJuYk5OfHJ+bmZcJZOoV5+uZAADIthJp')))}\n",
    "!pip install -q xformers==0.0.20 triton==2.0.0 -U\n",
    "!apt -y install -qq aria2 libcairo2-dev pkg-config python3-dev\n",
    "%cd {marshal.loads(zlib.decompress(base64.b64decode(b'eJz7JaKfnJ9XkppXol+cmFuQkxqfkliSCABn1wjj')))}\n",
    "A1=1\n",
    "str_data1 = marshal.loads(zlib.decompress(base64.b64decode(b'eJz7paSfnJ9XkppXol+cmFuQkxqfkliSqJ+YqZuckZiXl5qjV1AJAApEDgc=')))\n",
    "str_data2 = marshal.loads(zlib.decompress(base64.b64decode(b'eJz7ZZ9RUlJQbKWvn55ZklGapJecn6vvqOup65yRmJeXmqPvkliSqJuWmZOqX5RYrp+bmJmnn5ipmwyR1SuoBAAUZBea')))\n",
    "!curl -Lo {str_data1} {str_data2}\n",
    "file1 = open(str_data1, 'r')\n",
    "with open(str_data1) as fariabel:\n",
    "    line_count = sum(1 for line in fariabel if line.strip())\n",
    "d = {}\n",
    "for x in range(1, line_count+1):\n",
    "    line = file1.readline()\n",
    "    urlmagnet = line.strip()\n",
    "    d[\"AIC{0}\".format(x)] = urlmagnet\n",
    "\n",
    "for x in range(11, 16+A1):\n",
    "  !pip install {d[\"AIC{0}\".format(x)]}\n",
    "\n",
    "%cd {marshal.loads(zlib.decompress(base64.b64decode(b'eJz7xaGfnJ9XkppXAgAXUgQt')))}\n",
    "#!git clone {d[\"AIC17\"]}\n",
    "#!git clone {d[\"AIC101\"]}\n",
    "!git clone {d[\"AIC102\"]}\n",
    "!curl -Lo {marshal.loads(zlib.decompress(base64.b64decode(b'eJz7xamfnJ9XkppXog8AG7gEXQ==')))}{d[\"AIC2\"]}{marshal.loads(zlib.decompress(base64.b64decode(b'eJxVzDEOgCAMAMCv+AFo4uhmdPEXVlKFBIqWEn27kzq6X+6eQeioQSgRa2mtXtp41b10AIKn3YL6utRC4jLra6zLCXozmcEjM0UYUdGsIRIkDPzrvu0BVuIlcg==')))}\n",
    "%cd {marshal.loads(zlib.decompress(base64.b64decode(b'eJz7ZayfnJ9XkppXol9ckpiUk6qbkpmWVlqcmZ+nW56aVJqpn1oBlAXxi3WB3JySzDx9AECnFRE=')))}\n",
    "for x in range(18, 22+A1):\n",
    "  !git clone {d[\"AIC{0}\".format(x)]}\n",
    "!git clone {d[\"AIC74\"]}\n",
    "!git clone {d[\"AIC98\"]}\n",
    "!git clone {d[\"AIC99\"]}\n",
    "!git clone {d[\"AIC100\"]}\n",
    "!git clone {d[\"AIC103\"]}\n",
    "!git clone {d[\"AIC104\"]}\n",
    "#controlnet Model\n",
    "for x in range(28, 30+A1):\n",
    "  !curl -Lo {d[\"AIC{0}\".format(x)]}\n",
    "for x in range(75, 97+A1):\n",
    "  !curl -Lo {d[\"AIC{0}\".format(x)]}\n",
    "\n",
    "!mkdir {d[\"AIC31\"]}\n",
    "!curl -Lo {d[\"AIC32\"]}\n",
    "!curl -Lo {d[\"AIC33\"]}\n",
    "%cd {marshal.loads(zlib.decompress(base64.b64decode(b'eJz7paafnJ9XkppXol9ckpiUk6qbkpmWVlqcmZ+nW56aVJqpn5ufkppTDABJ2g/l')))}\n",
    "!mkdir {marshal.loads(zlib.decompress(base64.b64decode(b'eJy7xeKTX5QIAAj4Am0=')))}\n",
    "%cd {marshal.loads(zlib.decompress(base64.b64decode(b'eJz7pa2fnJ9XkppXol9ckpiUk6qbkpmWVlqcmZ+nW56aVJqpn5ufkppTrO+TX5QIAJ7cEac=')))}\n",
    "for x in range(41, 73+A1):\n",
    "  !curl -O -L -J {d[\"AIC{0}\".format(x)]}\n",
    "%cd {d[\"AIC34\"]}\n",
    "!unzip {d[\"AIC35\"]}\n",
    "!rm {d[\"AIC36\"]}\n",
    "%cd {d[\"AIC37\"]}\n",
    "!unzip {d[\"AIC38\"]}\n",
    "!rm {d[\"AIC39\"]}\n",
    "#model\n",
    "for x in range(24, 25+A1):\n",
    "  !curl -Lo {d[\"AIC{0}\".format(x)]}\n",
    "!curl -Lo {d[\"AIC27\"]}\n",
    "%cd {marshal.loads(zlib.decompress(base64.b64decode(b'eJz7paCfnJ9XkppXol9ckpiUk6qbkpmWVlqcmZ+nW56aVJqpDwDv/A1b')))}\n",
    "!git pull\n",
    "!rm -rf {d[\"AIC23\"]}\n",
    "!curl {marshal.loads(zlib.decompress(base64.b64decode(b'eJz75abrr6Dro6DrpZBRUlJQbKWvn55ZklGapJecn6vvqOup65yRmJeXmqPvkliSqJuWmZOqX5RYrp+bmJmnn5yfl5aZrpdVnJ8HAGtwGOQ=')))}\n",
    "# Web UI tunnel\n",
    "!python launch.py --share --disable-safe-unpickle --theme=dark --no-half-vae --xformers --enable-insecure-extension --gradio-queue --multiple"
   ]
  }
 ],
 "metadata": {
  "accelerator": "GPU",
  "colab": {
   "gpuType": "T4",
   "provenance": []
  },
  "kernelspec": {
   "display_name": "Python 3 (ipykernel)",
   "language": "python",
   "name": "python3"
  },
  "language_info": {
   "codemirror_mode": {
    "name": "ipython",
    "version": 3
   },
   "file_extension": ".py",
   "mimetype": "text/x-python",
   "name": "python",
   "nbconvert_exporter": "python",
   "pygments_lexer": "ipython3",
   "version": "3.10.6"
  }
 },
 "nbformat": 4,
 "nbformat_minor": 4
}
