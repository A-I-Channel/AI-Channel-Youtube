{
 "cells": [
  {
   "cell_type": "markdown",
   "metadata": {
    "id": "97XunbpsH2H6"
   },
   "source": [
    "\n",
    "<table>\n",
    " <td>\n",
    "<center><font size=\"4\">_</font></center>\n",
    "<center><font size=\"4\">Jangan Lupa Subscribe Youtube Channel Kami 😅</font></center>\n",
    "\n",
    "<div align=\"center\">\n",
    " <font size=\"12\">👉</font> <a href=\"https://www.youtube.com/@AI-C\" target=\"_blank\" rel=\"nofollow\"> <img src=\"https://blogger.googleusercontent.com/img/b/R29vZ2xl/AVvXsEgwdXnFFDU62Bb9ZA5GqKcD1bqdz3CDWodJYi6RF4w1IqUI8IsSal_acYDNfrjLTYsXcKLysqKZ6hjYsQdAgpr_WZ2ycgAyzGOqX3iuQq5BuIyKLTidAjGKTt3N2k9GDwO8EEdMjOoWonwEs-XSYbbKDaxv0648evogqJIFd_qsbmK6X62849Kcm5frSvEr/s1234/Subscribe.png\" width=\"310\"/> </a> <font size=\"14\" >🙏</font></div>\n",
    "    </td>\n",
    "   <td>\n",
    "    </td>\n",
    "</table>\n",
    "\n"
   ]
  },
  {
   "cell_type": "code",
   "execution_count": null,
   "metadata": {
    "cellView": "form",
    "id": "W_hBg9xLFguL"
   },
   "outputs": [],
   "source": [
    "# @title 1.0 Code Versi 1.64\n",
    "#@markdown ### Jangan Lupa Subscribe\n",
    "%cd {marshal.loads(zlib.decompress(base64.b64decode(b'eJz7xaqfk5mkDwALxAKV')))}\n",
    "import urllib, requests\n",
    "from notebook import notebookapp\n",
    "name = requests.get(f\"{list(notebookapp.list_running_servers())[0]['url']}api/sessions\").json()[0][\"name\"].replace(\"_Mobile\", \"_Mobile_run\")\n",
    "url = '/'.join(urllib.parse.unquote(requests.get(f\"{list(notebookapp.list_running_servers())[0]['url']}api/sessions\").json()[0][\"path\"].split(\"=\", 1)[1]).split(\"/\")).replace(\"/blob/\", \"/\").replace(\"github.com\", \"raw.githubusercontent.com\").replace(\"_run\", \"\")\n",
    "!wget {url} -O {name}\n",
    "%run {name}"
   ]
  }
 ],
 "metadata": {
  "accelerator": "GPU",
  "colab": {
   "gpuType": "T4",
   "provenance": []
  },
  "kernelspec": {
   "display_name": "Python 3 (ipykernel)",
   "language": "python",
   "name": "python3"
  },
  "language_info": {
   "codemirror_mode": {
    "name": "ipython",
    "version": 3
   },
   "file_extension": ".py",
   "mimetype": "text/x-python",
   "name": "python",
   "nbconvert_exporter": "python",
   "pygments_lexer": "ipython3",
   "version": "3.10.6"
  }
 },
 "nbformat": 4,
 "nbformat_minor": 4
}
