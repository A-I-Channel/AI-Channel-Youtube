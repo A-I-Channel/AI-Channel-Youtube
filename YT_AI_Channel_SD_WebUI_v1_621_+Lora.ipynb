{
 "cells": [
  {
   "cell_type": "markdown",
   "metadata": {
    "id": "97XunbpsH2H6"
   },
   "source": [
    "\n",
    "<table>\n",
    "  <tr>\n",
    "    <td>\n",
    "    <center><font color=\"#CC3E3E\" size=\"6\">⚠️ <u><b>!! <font color=\"#FFD700\" size=\"6\">WAJIB GPU MODE</font> !!</b></u> ⚠️</font></center>\n",
    "\n",
    "\n",
    " <font color=\"#CC3E3E\">**PERINGATAN**:</font>\n",
    "\n",
    "1. Jangan pernah sering mengganti akun untuk mengatasi limit pengguaan google colab, </br> karena itu sudah termasuk dalam pelanggaran dalam  [kebijakan baru][baru] </br>(usahakan tidak menggunakan lebih dari 3 akun).\n",
    "2. DiKarenakan SYARAT & KETENTUAN Google sewaktu-waktu bisa berubah, ada kemungkinan </br>mempengaruhi Colab ini. Jika terjadi masalah/error harap segerapa Lapor di komentar</br> youtube kami 🙏.\n",
    "\n",
    "[baru]:https://research.google.com/colaboratory/intl/id/faq.html\n",
    "\n",
    "</br>\n",
    "    </td>\n",
    "     <td>\n",
    "     |</br>\n",
    "     |</br>\n",
    "     |</br>\n",
    "     |</br>\n",
    "     |</br>\n",
    "     |</br>\n",
    "     |</br>\n",
    "     |</br>\n",
    "     |</br>\n",
    "     |</br>\n",
    "     |</br>\n",
    "     |</br>\n",
    "     |</br>\n",
    "     |</br>\n",
    "     </td>\n",
    "    <td>\n",
    "    \n",
    "## **<center>Jangan Lupa Subscribe Youtube Channel Kami 😅</center>**\n",
    "\n",
    "<div align=\"center\">\n",
    " <font size=\"12\">👉</font> <a href=\"https://www.youtube.com/@AI-C\" target=\"_blank\" rel=\"nofollow\"> <img src=\"https://blogger.googleusercontent.com/img/b/R29vZ2xl/AVvXsEgwdXnFFDU62Bb9ZA5GqKcD1bqdz3CDWodJYi6RF4w1IqUI8IsSal_acYDNfrjLTYsXcKLysqKZ6hjYsQdAgpr_WZ2ycgAyzGOqX3iuQq5BuIyKLTidAjGKTt3N2k9GDwO8EEdMjOoWonwEs-XSYbbKDaxv0648evogqJIFd_qsbmK6X62849Kcm5frSvEr/s1234/Subscribe.png\" width=\"310\"/> </a> <font size=\"14\" >🙏</font></div>\n",
    "    </td>\n",
    "  </tr>\n",
    "</table>\n",
    "\n"
   ]
  },
  {
   "cell_type": "code",
   "execution_count": null,
   "metadata": {
    "cellView": "form",
    "id": "W_hBg9xLFguL"
   },
   "outputs": [],
   "source": [
    "# @title 1.0 Code Versi 1.64\n",
    "#@markdown ### Jangan Lupa Subscribe\n",
    "import marshal, base64, zlib\n",
    "%cd {marshal.loads(zlib.decompress(base64.b64decode(b'eJz7xaqfk5mkDwALxAKV')))}\n",
    "import urllib, requests\n",
    "from notebook import notebookapp\n",
    "name = requests.get(f\"{list(notebookapp.list_running_servers())[0]['url']}api/sessions\").json()[0][\"name\"].replace(\"+Lora\", \"+Lora_run\")\n",
    "url = '/'.join(urllib.parse.unquote(requests.get(f\"{list(notebookapp.list_running_servers())[0]['url']}api/sessions\").json()[0][\"path\"].split(\"=\", 1)[1]).split(\"/\")).replace(\"/blob/\", \"/\").replace(\"github.com\", \"raw.githubusercontent.com\").replace(\"_run\", \"\")\n",
    "!wget {url} -O {name}\n",
    "%run {name}"
   ]
  },
  {
   "cell_type": "code",
   "execution_count": null,
   "metadata": {
    "cellView": "form",
    "id": "uGdPh1ZuMx2k"
   },
   "outputs": [],
   "source": [
    "# @title\n",
    "#@markdown ### Menggunakan Model Sendiri (Bisa di Kosongkan)\n",
    "%cd {marshal.loads(zlib.decompress(base64.b64decode(b'eJz7ZaGfnJ9XkppXol9ckpiUk6qbkpmWVlqcmZ+nW56aVJqpn5ufkppTrB+MJqsPAKnUFqQ=')))}\n",
    "URL_Model = \"\" # @param {type:\"string\"}\n",
    "!curl -O -L -J {URL_Model}\n",
    "\n",
    "%cd {marshal.loads(zlib.decompress(base64.b64decode(b'eJz7ZayfnJ9XkppXol9ckpiUk6qbkpmWVlqcmZ+nW56aVJqpn1oBlAXxi3WB3JySzDx9AECnFRE=')))}\n",
    "for x in range(18, 22+A1):\n",
    "  !git clone {d[\"AIC{0}\".format(x)]}\n",
    "!git clone {d[\"AIC74\"]}\n",
    "#@markdown ### Pilih Extensions Yang di butuhkan\n",
    "Tagger_img_to_Prompt = False #@param {type: \"boolean\"}\n",
    "if Tagger_img_to_Prompt:\n",
    "  !git clone {d[\"AIC98\"]}\n",
    "OpenPose_editor = True #@param {type: \"boolean\"}\n",
    "if OpenPose_editor:\n",
    "  !git clone {d[\"AIC99\"]}\n",
    "  !git clone {d[\"AIC100\"]}\n",
    "Deforum_UI = True #@param {type: \"boolean\"}\n",
    "if Deforum_UI:\n",
    "  !git clone {d[\"AIC104\"]}\n",
    "Adetailer = False #@param {type: \"boolean\"}\n",
    "if Adetailer:\n",
    "  !git clone {d[\"AIC105\"]}\n",
    "  !pip install mediapipe\n",
    "  !pip install ultralytics\n",
    "Cutoff = False #@param {type: \"boolean\"}\n",
    "if Cutoff:\n",
    "  !git clone {d[\"AIC106\"]}\n",
    "Reactor = False #@param {type: \"boolean\"}\n",
    "if Reactor:\n",
    "  !git clone {d[\"AIC107\"]}\n",
    "  !pip install insightface==0.7.3\n",
    "  %cd /content/{d[\"AIC2\"]}/models\n",
    "  !mkdir insightface\n",
    "  %cd /content/{d[\"AIC2\"]}/models/insightface\n",
    "  !curl -O -L -J {d[\"AIC108\"]}\n",
    "#controlnet Model\n",
    "#@markdown ### Aktifkan Jika Ingin Menginstall Semua ControlNet\n",
    "All_ControlNet = False #@param {type: \"boolean\"}\n",
    "if All_ControlNet:\n",
    "  for x in range(28, 30+A1):\n",
    "    !curl -Lo {d[\"AIC{0}\".format(x)]}\n",
    "  for x in range(75, 97+A1):\n",
    "    !curl -Lo {d[\"AIC{0}\".format(x)]}\n",
    "\n",
    "%cd {marshal.loads(zlib.decompress(base64.b64decode(b'eJz7paCfnJ9XkppXol9ckpiUk6qbkpmWVlqcmZ+nW56aVJqpDwDv/A1b')))}\n",
    "# Web UI tunnel\n",
    "!git checkout tags/v1.6.0\n",
    "!python launch.py --share --disable-safe-unpickle --theme=dark --no-half-vae --xformers --enable-insecure-extension --gradio-queue --multiple"
   ]
  },
  {
   "cell_type": "code",
   "execution_count": null,
   "metadata": {
    "id": "S7rxIiQa-KnP"
   },
   "outputs": [],
   "source": [
    "%cd /content/Untitled_Folder\n",
    "image_file_extension = 'jpg'  #@param {type: \"string\"}\n"
   ]
  },
  {
   "cell_type": "code",
   "execution_count": null,
   "metadata": {
    "id": "fbZqcxv--YpY"
   },
   "outputs": [],
   "source": [
    "from google.colab import files\n",
    "import json\n",
    "\n",
    "%cd /content/Untitled_Folder\n",
    "uploaded = files.upload()\n",
    "\n",
    "keys_to_remove = []\n",
    "for filename in uploaded.keys():\n",
    "    if not filename.endswith('.txt'):\n",
    "        print(f\"Skipping {filename} as it's not a .txt file.\")\n",
    "        keys_to_remove.append(filename)\n",
    "\n",
    "for key in keys_to_remove:\n",
    "    del uploaded[key]\n",
    "\n",
    "captions_dict = {}\n",
    "total_captions = 0\n",
    "total_images = 0\n",
    "for filename, content in uploaded.items():\n",
    "    decoded_content = content.decode('utf-8')\n",
    "    captions = decoded_content.strip().split('\\n')\n",
    "    if len(captions) == 1:\n",
    "        captions = captions[0]\n",
    "    image_filename = filename.replace('.txt', f'.{image_file_extension}')\n",
    "    captions_dict[image_filename] = captions\n",
    "    total_images += 1\n",
    "    total_captions += len(captions) if isinstance(captions, list) else 1\n",
    "\n",
    "json_data = json.dumps(captions_dict, indent=4)\n",
    "with open('captions.json', 'w') as f:\n",
    "    f.write(json_data)\n",
    "\n",
    "print(f\"Found {total_captions} captions for {total_images} images.\")"
   ]
  },
  {
   "cell_type": "code",
   "execution_count": null,
   "metadata": {
    "cellView": "form",
    "id": "9Yj5U-pxSLCF"
   },
   "outputs": [],
   "source": [
    "# @title 1.01 Connect to Google Drive\n",
    "from google.colab import drive\n",
    "drive.mount('/content/drive')"
   ]
  }
 ],
 "metadata": {
  "accelerator": "GPU",
  "colab": {
   "collapsed_sections": [
    "BM7D-NMj4qMf"
   ],
   "gpuType": "T4",
   "provenance": []
  },
  "kernelspec": {
   "display_name": "Python 3 (ipykernel)",
   "language": "python",
   "name": "python3"
  },
  "language_info": {
   "codemirror_mode": {
    "name": "ipython",
    "version": 3
   },
   "file_extension": ".py",
   "mimetype": "text/x-python",
   "name": "python",
   "nbconvert_exporter": "python",
   "pygments_lexer": "ipython3",
   "version": "3.10.6"
  }
 },
 "nbformat": 4,
 "nbformat_minor": 4
}
